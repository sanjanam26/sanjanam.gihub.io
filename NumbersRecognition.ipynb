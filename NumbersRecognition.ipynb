{
  "nbformat": 4,
  "nbformat_minor": 0,
  "metadata": {
    "colab": {
      "provenance": [],
      "authorship_tag": "ABX9TyNFu+J4sAbfXlXC/nw7+vo6",
      "include_colab_link": true
    },
    "kernelspec": {
      "name": "python3",
      "display_name": "Python 3"
    },
    "language_info": {
      "name": "python"
    }
  },
  "cells": [
    {
      "cell_type": "markdown",
      "metadata": {
        "id": "view-in-github",
        "colab_type": "text"
      },
      "source": [
        "<a href=\"https://colab.research.google.com/github/sanjanam26/sanjanam.gihub.io/blob/main/NumbersRecognition.ipynb\" target=\"_parent\"><img src=\"https://colab.research.google.com/assets/colab-badge.svg\" alt=\"Open In Colab\"/></a>"
      ]
    },
    {
      "cell_type": "code",
      "execution_count": null,
      "metadata": {
        "id": "LUmlI4ClhuNd"
      },
      "outputs": [],
      "source": [
        "# !pip install tensorflow"
      ]
    },
    {
      "cell_type": "code",
      "source": [
        "import tensorflow as tf\n",
        "import seaborn as sns"
      ],
      "metadata": {
        "id": "B9TWbKE0hzAP"
      },
      "execution_count": 28,
      "outputs": []
    },
    {
      "cell_type": "code",
      "source": [
        "import numpy as np\n",
        "import pandas as pd\n",
        "import matplotlib.pyplot as plt\n",
        "import matplotlib.image as mplmg"
      ],
      "metadata": {
        "id": "8f7RibhFh5J-"
      },
      "execution_count": 29,
      "outputs": []
    },
    {
      "cell_type": "code",
      "source": [
        "#check the version of tensorflow\n",
        "print(tf.__version__)"
      ],
      "metadata": {
        "colab": {
          "base_uri": "https://localhost:8080/"
        },
        "id": "kC9d8S9UiWxp",
        "outputId": "96d88773-d8dd-4afa-8414-b7f72fb2a3f3"
      },
      "execution_count": 30,
      "outputs": [
        {
          "output_type": "stream",
          "name": "stdout",
          "text": [
            "2.17.0\n"
          ]
        }
      ]
    },
    {
      "cell_type": "code",
      "source": [
        "#Load data\n",
        "mnist = tf.keras.datasets.mnist\n",
        "(x_train, y_train) , (x_test, y_test) = mnist.load_data()"
      ],
      "metadata": {
        "id": "lGmMSUueiiGT"
      },
      "execution_count": 31,
      "outputs": []
    },
    {
      "cell_type": "code",
      "source": [
        "# Check the shape of x_train and y_train\n",
        "print(\"x_train shape:\", x_train.shape)\n",
        "print(\"y_train shape:\", y_train.shape)"
      ],
      "metadata": {
        "colab": {
          "base_uri": "https://localhost:8080/"
        },
        "id": "JRaQFtYXsd-Y",
        "outputId": "d6fd5dae-00ba-47fe-a286-a7aec9e9726c"
      },
      "execution_count": 32,
      "outputs": [
        {
          "output_type": "stream",
          "name": "stdout",
          "text": [
            "x_train shape: (60000, 28, 28)\n",
            "y_train shape: (60000,)\n"
          ]
        }
      ]
    },
    {
      "cell_type": "code",
      "source": [
        "# Print the first image and label in the dataset\n",
        "print(\"First image data:\\n\", x_train[6])\n",
        "print(\"First image label:\", y_train[6])"
      ],
      "metadata": {
        "colab": {
          "base_uri": "https://localhost:8080/"
        },
        "id": "KzkIxWWOsugO",
        "outputId": "8ffc9c48-3542-4358-8699-11e63ae21cd2"
      },
      "execution_count": 33,
      "outputs": [
        {
          "output_type": "stream",
          "name": "stdout",
          "text": [
            "First image data:\n",
            " [[  0   0   0   0   0   0   0   0   0   0   0   0   0   0   0   0   0   0\n",
            "    0   0   0   0   0   0   0   0   0   0]\n",
            " [  0   0   0   0   0   0   0   0   0   0   0   0   0   0   0   0   0   0\n",
            "    0   0   0   0   0   0   0   0   0   0]\n",
            " [  0   0   0   0   0   0   0   0   0   0   0   0   0   0   0   0   0   0\n",
            "    0   0   0   0   0   0   0   0   0   0]\n",
            " [  0   0   0   0   0   0   0   0   0   0   0   0   0   0   0   0   0   0\n",
            "    0   0   0   0   0   0   0   0   0   0]\n",
            " [  0   0   0   0   0   0   0   0   0   0   0   0 145 255 211  31   0   0\n",
            "    0   0   0   0   0   0   0   0   0   0]\n",
            " [  0   0   0   0   0   0   0   0   0   0   0  32 237 253 252  71   0   0\n",
            "    0   0   0   0   0   0   0   0   0   0]\n",
            " [  0   0   0   0   0   0   0   0   0   0   0  11 175 253 252  71   0   0\n",
            "    0   0   0   0   0   0   0   0   0   0]\n",
            " [  0   0   0   0   0   0   0   0   0   0   0   0 144 253 252  71   0   0\n",
            "    0   0   0   0   0   0   0   0   0   0]\n",
            " [  0   0   0   0   0   0   0   0   0   0   0  16 191 253 252  71   0   0\n",
            "    0   0   0   0   0   0   0   0   0   0]\n",
            " [  0   0   0   0   0   0   0   0   0   0   0  26 221 253 252 124  31   0\n",
            "    0   0   0   0   0   0   0   0   0   0]\n",
            " [  0   0   0   0   0   0   0   0   0   0   0   0 125 253 252 252 108   0\n",
            "    0   0   0   0   0   0   0   0   0   0]\n",
            " [  0   0   0   0   0   0   0   0   0   0   0   0   0 253 252 252 108   0\n",
            "    0   0   0   0   0   0   0   0   0   0]\n",
            " [  0   0   0   0   0   0   0   0   0   0   0   0   0 255 253 253 108   0\n",
            "    0   0   0   0   0   0   0   0   0   0]\n",
            " [  0   0   0   0   0   0   0   0   0   0   0   0   0 253 252 252 108   0\n",
            "    0   0   0   0   0   0   0   0   0   0]\n",
            " [  0   0   0   0   0   0   0   0   0   0   0   0   0 253 252 252 108   0\n",
            "    0   0   0   0   0   0   0   0   0   0]\n",
            " [  0   0   0   0   0   0   0   0   0   0   0   0   0 253 252 252 108   0\n",
            "    0   0   0   0   0   0   0   0   0   0]\n",
            " [  0   0   0   0   0   0   0   0   0   0   0   0   0 255 253 253 170   0\n",
            "    0   0   0   0   0   0   0   0   0   0]\n",
            " [  0   0   0   0   0   0   0   0   0   0   0   0   0 253 252 252 252  42\n",
            "    0   0   0   0   0   0   0   0   0   0]\n",
            " [  0   0   0   0   0   0   0   0   0   0   0   0   0 149 252 252 252 144\n",
            "    0   0   0   0   0   0   0   0   0   0]\n",
            " [  0   0   0   0   0   0   0   0   0   0   0   0   0 109 252 252 252 144\n",
            "    0   0   0   0   0   0   0   0   0   0]\n",
            " [  0   0   0   0   0   0   0   0   0   0   0   0   0   0 218 253 253 255\n",
            "   35   0   0   0   0   0   0   0   0   0]\n",
            " [  0   0   0   0   0   0   0   0   0   0   0   0   0   0 175 252 252 253\n",
            "   35   0   0   0   0   0   0   0   0   0]\n",
            " [  0   0   0   0   0   0   0   0   0   0   0   0   0   0  73 252 252 253\n",
            "   35   0   0   0   0   0   0   0   0   0]\n",
            " [  0   0   0   0   0   0   0   0   0   0   0   0   0   0  31 211 252 253\n",
            "   35   0   0   0   0   0   0   0   0   0]\n",
            " [  0   0   0   0   0   0   0   0   0   0   0   0   0   0   0   0   0   0\n",
            "    0   0   0   0   0   0   0   0   0   0]\n",
            " [  0   0   0   0   0   0   0   0   0   0   0   0   0   0   0   0   0   0\n",
            "    0   0   0   0   0   0   0   0   0   0]\n",
            " [  0   0   0   0   0   0   0   0   0   0   0   0   0   0   0   0   0   0\n",
            "    0   0   0   0   0   0   0   0   0   0]\n",
            " [  0   0   0   0   0   0   0   0   0   0   0   0   0   0   0   0   0   0\n",
            "    0   0   0   0   0   0   0   0   0   0]]\n",
            "First image label: 1\n"
          ]
        }
      ]
    },
    {
      "cell_type": "code",
      "source": [
        "#check the null values here\n",
        "np.isnan(x_train).any()"
      ],
      "metadata": {
        "colab": {
          "base_uri": "https://localhost:8080/"
        },
        "id": "N6fclj4XjRoR",
        "outputId": "6efaf1eb-1435-4604-9edb-264dd3074ed6"
      },
      "execution_count": 34,
      "outputs": [
        {
          "output_type": "execute_result",
          "data": {
            "text/plain": [
              "False"
            ]
          },
          "metadata": {},
          "execution_count": 34
        }
      ]
    },
    {
      "cell_type": "code",
      "source": [
        "new_var = sns.countplot(y_train)\n",
        "new_var\n"
      ],
      "metadata": {
        "colab": {
          "base_uri": "https://localhost:8080/",
          "height": 448
        },
        "id": "goaR6DuHi5by",
        "outputId": "c41d3fdb-0d44-442c-ec31-76b14654c7e4"
      },
      "execution_count": 10,
      "outputs": [
        {
          "output_type": "execute_result",
          "data": {
            "text/plain": [
              "<Axes: ylabel='count'>"
            ]
          },
          "metadata": {},
          "execution_count": 10
        },
        {
          "output_type": "display_data",
          "data": {
            "text/plain": [
              "<Figure size 640x480 with 1 Axes>"
            ],
            "image/png": "[encoded data removed]"
          },
          "metadata": {}
        }
      ]
    },
    {
      "cell_type": "code",
      "source": [
        "\n",
        "# Display the first image in the training data\n",
        "plt.imshow(x_train[0].reshape(28, 28), cmap='gray')\n",
        "plt.title(f\"Label: {y_train[0]}\")\n",
        "plt.show()\n",
        "\n",
        "#\tcmap='gray' ensures that the image is displayed in grayscale.\n",
        "#x_train[0].reshape(28, 28) reshapes the data from (28, 28, 1) to (28, 28)\n",
        "#for display, as imshow() expects a 2D array for grayscale images."
      ],
      "metadata": {
        "colab": {
          "base_uri": "https://localhost:8080/",
          "height": 452
        },
        "id": "6jJlsiOis88Q",
        "outputId": "f4100ace-cd89-46a0-f939-bb14d81836ba"
      },
      "execution_count": 35,
      "outputs": [
        {
          "output_type": "display_data",
          "data": {
            "text/plain": [
              "<Figure size 640x480 with 1 Axes>"
            ],
            "image/png": "[encoded data removed]"
          },
          "metadata": {}
        }
      ]
    },
    {
      "cell_type": "code",
      "source": [
        "# Check the data type of x_train and y_train\n",
        "print(\"x_train data type:\", x_train.dtype)\n",
        "print(\"y_train data type:\", y_train.dtype)\n",
        "\n",
        "# Check the range of values in x_train\n",
        "print(\"Min pixel value in x_train:\", x_train.min())\n",
        "print(\"Max pixel value in x_train:\", x_train.max())\n",
        "\n",
        "# Check unique labels in y_train\n",
        "print(\"Unique labels in y_train:\", set(y_train))"
      ],
      "metadata": {
        "colab": {
          "base_uri": "https://localhost:8080/"
        },
        "id": "9n8xjXdJrIlp",
        "outputId": "4ca7aba9-3c4f-4db6-9c45-4f7f449329c6"
      },
      "execution_count": 36,
      "outputs": [
        {
          "output_type": "stream",
          "name": "stdout",
          "text": [
            "x_train data type: uint8\n",
            "y_train data type: uint8\n",
            "Min pixel value in x_train: 0\n",
            "Max pixel value in x_train: 255\n",
            "Unique labels in y_train: {0, 1, 2, 3, 4, 5, 6, 7, 8, 9}\n"
          ]
        }
      ]
    },
    {
      "cell_type": "code",
      "source": [
        "# Plot the distribution of labels\n",
        "sns.countplot(y_train)\n",
        "plt.xlabel(\"labels\")\n",
        "plt.title(\"Label Distribution in y_train\")\n",
        "plt.show()"
      ],
      "metadata": {
        "colab": {
          "base_uri": "https://localhost:8080/",
          "height": 472
        },
        "id": "MDp_ACOirtqH",
        "outputId": "58fad34d-17df-454a-ab59-13690e94ac4e"
      },
      "execution_count": 43,
      "outputs": [
        {
          "output_type": "display_data",
          "data": {
            "text/plain": [
              "<Figure size 640x480 with 1 Axes>"
            ],
            "image/png": "[encoded data removed]"
          },
          "metadata": {}
        }
      ]
    },
    {
      "cell_type": "code",
      "source": [
        "np.isnan(x_test).any()"
      ],
      "metadata": {
        "colab": {
          "base_uri": "https://localhost:8080/"
        },
        "id": "fuA0GPItj7FO",
        "outputId": "9aad5fa2-7fd7-4dc7-c26f-b2bda5602214"
      },
      "execution_count": 8,
      "outputs": [
        {
          "output_type": "execute_result",
          "data": {
            "text/plain": [
              "False"
            ]
          },
          "metadata": {},
          "execution_count": 8
        }
      ]
    },
    {
      "cell_type": "code",
      "source": [
        "input_shape =( 28, 28,1)\n",
        "\n",
        "x_train = x_train.reshape(x_train.shape[0],\n",
        "                          x_train.shape[1],\n",
        "                          x_train.shape[2], 1)\n",
        "x_train = x_train/255.0"
      ],
      "metadata": {
        "id": "e6g1im4jmN-k"
      },
      "execution_count": 37,
      "outputs": []
    },
    {
      "cell_type": "code",
      "source": [
        "\n",
        "x_test = x_test.reshape(x_test.shape[0],\n",
        "                          x_test.shape[1],\n",
        "                          x_test.shape[2], 1)\n",
        "x_test = x_test/255.0"
      ],
      "metadata": {
        "id": "3XuBaH14oGO_"
      },
      "execution_count": 38,
      "outputs": []
    },
    {
      "cell_type": "code",
      "source": [
        "# label encoding\n",
        "y_train = tf.one_hot(y_train.astype(np.int32), depth = 10)"
      ],
      "metadata": {
        "id": "vrJGn63-vuHy"
      },
      "execution_count": 39,
      "outputs": []
    },
    {
      "cell_type": "code",
      "source": [
        "y_test = tf.one_hot(y_test.astype(np.int32), depth = 10)"
      ],
      "metadata": {
        "id": "zdBBM6vZyuCZ"
      },
      "execution_count": 40,
      "outputs": []
    },
    {
      "cell_type": "code",
      "source": [
        "#visualize the data\n",
        "plt.imshow(x_train[100][:,:,0])\n",
        "print(y_train[100])"
      ],
      "metadata": {
        "colab": {
          "base_uri": "https://localhost:8080/",
          "height": 448
        },
        "id": "FP2hEw1KzIgz",
        "outputId": "7a5567e5-4a23-4450-8b6b-f88df41f642f"
      },
      "execution_count": 41,
      "outputs": [
        {
          "output_type": "stream",
          "name": "stdout",
          "text": [
            "tf.Tensor([0. 0. 0. 0. 0. 1. 0. 0. 0. 0.], shape=(10,), dtype=float32)\n"
          ]
        },
        {
          "output_type": "display_data",
          "data": {
            "text/plain": [
              "<Figure size 640x480 with 1 Axes>"
            ],
            "image/png": "[encoded data removed]"
          },
          "metadata": {}
        }
      ]
    },
    {
      "cell_type": "code",
      "source": [
        "# Process 64 samples at a time before updating its weights during training.\n",
        "# Predict one of 10 possible classes for each input (likely a classification problem like recognizing handwritten digits or objects).\n",
        "# Go through the entire dataset 5 times during the training process, which is typically done to ensure the model has learned enough from the data.\n",
        "batch_size = 64\n",
        "num_classes = 10\n",
        "epochs =5"
      ],
      "metadata": {
        "id": "cAmO4ThHzXRZ"
      },
      "execution_count": 53,
      "outputs": []
    },
    {
      "cell_type": "code",
      "source": [
        "model = tf.keras.models.Sequential([\n",
        "    tf.keras.layers.Conv2D(32,(5,5) , padding='same', activation ='relu', input_shape =input_shape),\n",
        "    tf.keras.layers.Conv2D(32,(5,5) , padding='same', activation ='relu'),\n",
        "    tf.keras.layers.MaxPool2D(),\n",
        "    tf.keras.layers.Dropout(0.25),\n",
        "    tf.keras.layers.Conv2D(32,(3,3) , padding='same', activation ='relu'),\n",
        "    tf.keras.layers.Conv2D(64,(3,3) , padding='same', activation ='relu'),\n",
        "    tf.keras.layers.Flatten(),\n",
        "    tf.keras.layers.Dense(128, activation= 'relu'),\n",
        "    tf.keras.layers.Dropout(0.5),\n",
        "    tf.keras.layers.Dense(num_classes, activation= 'softmax') # Changed 128 to num_classes (which is 10)\n",
        "])\n",
        "\n",
        "model.compile(optimizer = tf.keras.optimizers.RMSprop(), loss='categorical_crossentropy', metrics=['acc'])"
      ],
      "metadata": {
        "colab": {
          "base_uri": "https://localhost:8080/"
        },
        "id": "hpV5DAgK4owd",
        "outputId": "242682c7-6457-4ca4-aceb-8cacbd0d3107"
      },
      "execution_count": 72,
      "outputs": [
        {
          "output_type": "stream",
          "name": "stderr",
          "text": [
            "/usr/local/lib/python3.10/dist-packages/keras/src/layers/convolutional/base_conv.py:107: UserWarning: Do not pass an `input_shape`/`input_dim` argument to a layer. When using Sequential models, prefer using an `Input(shape)` object as the first layer in the model instead.\n",
            "  super().__init__(activity_regularizer=activity_regularizer, **kwargs)\n"
          ]
        }
      ]
    },
    {
      "cell_type": "code",
      "source": [
        "# fit the training data :\n",
        "\n",
        "class myCallback(tf.keras.callbacks.Callback): # Changed 'callback' to 'callbacks'\n",
        "  def on_epoch_end(self , epoch , logs= {}): # Changed 'log' to 'logs' to match the argument name in the Callback class\n",
        "    if(logs.get('acc')>0.995):\n",
        "      print(\"\\nReached 99.5% accuracy so cancelling training\")\n",
        "      self.model.stop_training =True\n",
        "\n",
        "callbacks = myCallback()"
      ],
      "metadata": {
        "id": "FP0aYuKGPe27"
      },
      "execution_count": 73,
      "outputs": []
    },
    {
      "cell_type": "code",
      "source": [],
      "metadata": {
        "id": "7b2HUxBTTJq1"
      },
      "execution_count": null,
      "outputs": []
    },
    {
      "cell_type": "code",
      "source": [
        "history = model.fit(x_train, y_train, batch_size=batch_size,\n",
        "                    epochs=epochs,\n",
        "                    validation_split =0.1,\n",
        "                    callbacks=[callbacks])"
      ],
      "metadata": {
        "colab": {
          "base_uri": "https://localhost:8080/"
        },
        "id": "NNgtpuHYRIBZ",
        "outputId": "658ff03b-c149-4396-c392-0f1ff262db15"
      },
      "execution_count": 74,
      "outputs": [
        {
          "output_type": "stream",
          "name": "stdout",
          "text": [
            "Epoch 1/5\n",
            "\u001b[1m844/844\u001b[0m \u001b[32m━━━━━━━━━━━━━━━━━━━━\u001b[0m\u001b[37m\u001b[0m \u001b[1m424s\u001b[0m 501ms/step - acc: 0.8552 - loss: 0.4458 - val_acc: 0.9885 - val_loss: 0.0393\n",
            "Epoch 2/5\n",
            "\u001b[1m844/844\u001b[0m \u001b[32m━━━━━━━━━━━━━━━━━━━━\u001b[0m\u001b[37m\u001b[0m \u001b[1m430s\u001b[0m 486ms/step - acc: 0.9796 - loss: 0.0697 - val_acc: 0.9892 - val_loss: 0.0403\n",
            "Epoch 3/5\n",
            "\u001b[1m844/844\u001b[0m \u001b[32m━━━━━━━━━━━━━━━━━━━━\u001b[0m\u001b[37m\u001b[0m \u001b[1m396s\u001b[0m 432ms/step - acc: 0.9865 - loss: 0.0502 - val_acc: 0.9912 - val_loss: 0.0325\n",
            "Epoch 4/5\n",
            "\u001b[1m844/844\u001b[0m \u001b[32m━━━━━━━━━━━━━━━━━━━━\u001b[0m\u001b[37m\u001b[0m \u001b[1m371s\u001b[0m 439ms/step - acc: 0.9886 - loss: 0.0391 - val_acc: 0.9932 - val_loss: 0.0282\n",
            "Epoch 5/5\n",
            "\u001b[1m844/844\u001b[0m \u001b[32m━━━━━━━━━━━━━━━━━━━━\u001b[0m\u001b[37m\u001b[0m \u001b[1m370s\u001b[0m 425ms/step - acc: 0.9903 - loss: 0.0345 - val_acc: 0.9915 - val_loss: 0.0445\n"
          ]
        }
      ]
    },
    {
      "cell_type": "code",
      "source": [
        "#loss and accuracy\n",
        "\n",
        "fig, ax = plt.subplots(2,1)\n",
        "ax[0].plot(history.history['loss'], color='b', label=\"Training loss\")\n",
        "ax[0].plot(history.history['val_loss'], color='r', label=\"validation loss\",axes =ax[0])\n",
        "plt.legend(loc='best', fontsize='small')\n",
        "ax[0].set_ylabel(\"loss\")\n",
        "ax[0].set_xlabel(\"epochs\")"
      ],
      "metadata": {
        "colab": {
          "base_uri": "https://localhost:8080/",
          "height": 486
        },
        "id": "Frmm9_nqSfml",
        "outputId": "a9fd611c-31cc-4c55-af53-7e6c6536b0d1"
      },
      "execution_count": 75,
      "outputs": [
        {
          "output_type": "stream",
          "name": "stderr",
          "text": [
            "WARNING:matplotlib.legend:No artists with labels found to put in legend.  Note that artists whose label start with an underscore are ignored when legend() is called with no argument.\n"
          ]
        },
        {
          "output_type": "execute_result",
          "data": {
            "text/plain": [
              "Text(0.5, 0, 'epochs')"
            ]
          },
          "metadata": {},
          "execution_count": 75
        },
        {
          "output_type": "display_data",
          "data": {
            "text/plain": [
              "<Figure size 640x480 with 2 Axes>"
            ],
            "image/png": "[encoded data removed]"
          },
          "metadata": {}
        }
      ]
    },
    {
      "cell_type": "code",
      "source": [
        "test_loss, test_acc = model.evaluate(x_test, y_test)\n",
        "print('Test accuracy:', test_acc)"
      ],
      "metadata": {
        "colab": {
          "base_uri": "https://localhost:8080/"
        },
        "id": "NK6TVK1VXTCn",
        "outputId": "6ad6e0de-52fb-42fa-9cb8-98e16df4b58f"
      },
      "execution_count": 76,
      "outputs": [
        {
          "output_type": "stream",
          "name": "stdout",
          "text": [
            "\u001b[1m313/313\u001b[0m \u001b[32m━━━━━━━━━━━━━━━━━━━━\u001b[0m\u001b[37m\u001b[0m \u001b[1m18s\u001b[0m 58ms/step - acc: 0.9907 - loss: 0.0311\n",
            "Test accuracy: 0.9927999973297119\n"
          ]
        }
      ]
    },
    {
      "cell_type": "code",
      "source": [
        "#predict the values from the testing datasets\n",
        "y_pred = model.predict(x_test)\n",
        "# convert predictiom classes to one hot vectors\n",
        "y_pred_classes = np.argmax(y_pred, axis=1)\n",
        "# Convert testing observations to one hot vectors\n",
        "y_true = np.argmax(y_test, axis=1)\n",
        "#Compute the confusion matrix\n",
        "confusion_matrix = tf.math.confusion_matrix(y_true, y_pred_classes)"
      ],
      "metadata": {
        "colab": {
          "base_uri": "https://localhost:8080/"
        },
        "id": "ukMKwT-sXV3U",
        "outputId": "31425426-e0f8-45b8-9799-684c654ace73"
      },
      "execution_count": 77,
      "outputs": [
        {
          "output_type": "stream",
          "name": "stdout",
          "text": [
            "\u001b[1m313/313\u001b[0m \u001b[32m━━━━━━━━━━━━━━━━━━━━\u001b[0m\u001b[37m\u001b[0m \u001b[1m34s\u001b[0m 108ms/step\n"
          ]
        }
      ]
    },
    {
      "cell_type": "code",
      "source": [
        "plt.figure(figsize=(10, 8))\n",
        "sns.heatmap(confusion_matrix, annot=True, fmt='d', cmap='Blues')\n",
        "plt.xlabel('Predicted')\n",
        "plt.ylabel('True')\n",
        "plt.title('Confusion Matrix')\n",
        "plt.show()"
      ],
      "metadata": {
        "colab": {
          "base_uri": "https://localhost:8080/",
          "height": 570
        },
        "id": "VM8CMN6jYaPa",
        "outputId": "62d2b84e-f4de-4eb6-cbec-6c0cac045b40"
      },
      "execution_count": 78,
      "outputs": [
        {
          "output_type": "display_data",
          "data": {
            "text/plain": [
              "<Figure size 1000x800 with 2 Axes>"
            ],
            "image/png": "[encoded data removed]"
          },
          "metadata": {}
        }
      ]
    },
    {
      "cell_type": "code",
      "source": [],
      "metadata": {
        "id": "zfQ33s8mbZgl"
      },
      "execution_count": null,
      "outputs": []
    }
  ]
}